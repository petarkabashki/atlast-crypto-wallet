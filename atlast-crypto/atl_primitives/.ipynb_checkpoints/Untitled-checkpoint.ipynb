{
 "cells": [
  {
   "cell_type": "code",
   "execution_count": 2,
   "metadata": {},
   "outputs": [],
   "source": [
    "\n",
    "from __future__ import print_function\n",
    "import sys\n"
   ]
  },
  {
   "cell_type": "code",
   "execution_count": 3,
   "metadata": {},
   "outputs": [],
   "source": [
    "sys.path.extend(['.', '..'])\n",
    "\n",
    "from pycparser import c_parser, c_ast"
   ]
  },
  {
   "cell_type": "code",
   "execution_count": 4,
   "metadata": {},
   "outputs": [],
   "source": [
    "\n",
    "text = r\"\"\"\n",
    "    typedef int Node, Hash;\n",
    "\n",
    "    void HashPrint(Hash* hash, void (*PrintFunc)(char*, char*))\n",
    "    {\n",
    "        unsigned int i;\n",
    "\n",
    "        if (hash == NULL || hash->heads == NULL)\n",
    "            return;\n",
    "\n",
    "        for (i = 0; i < hash->table_size; ++i)\n",
    "        {\n",
    "            Node* temp = hash->heads[i];\n",
    "\n",
    "            while (temp != NULL)\n",
    "            {\n",
    "                PrintFunc(temp->entry->key, temp->entry->value);\n",
    "                temp = temp->next;\n",
    "            }\n",
    "        }\n",
    "    }\n",
    "\"\"\"\n"
   ]
  },
  {
   "cell_type": "code",
   "execution_count": null,
   "metadata": {},
   "outputs": [],
   "source": [
    "parser = c_parser.CParser()\n",
    "ast = parser.parse(text, filename='<none>')"
   ]
  }
 ],
 "metadata": {
  "kernelspec": {
   "display_name": "Python 3",
   "language": "python",
   "name": "python3"
  },
  "language_info": {
   "codemirror_mode": {
    "name": "ipython",
    "version": 3
   },
   "file_extension": ".py",
   "mimetype": "text/x-python",
   "name": "python",
   "nbconvert_exporter": "python",
   "pygments_lexer": "ipython3",
   "version": "3.6.9"
  }
 },
 "nbformat": 4,
 "nbformat_minor": 4
}
